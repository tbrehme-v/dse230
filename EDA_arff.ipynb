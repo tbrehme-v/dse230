{
 "cells": [
  {
   "cell_type": "code",
   "execution_count": null,
   "id": "982cffea-48a5-430d-a8a9-68c723a5cf97",
   "metadata": {},
   "outputs": [],
   "source": [
    "import os\n",
    "\n",
    "# Replace source_dir with your path to ?/wisdm-dataset/arff_files/phone/accel\n",
    "# The dataset can be found downloaded here: \n",
    "# https://archive.ics.uci.edu/dataset/507/wisdm+smartphone+and+smartwatch+activity+and+biometrics+dataset\n",
    "\n",
    "#source_dir = \"/home/work/Final_Project/data/wisdm-dataset/arff_files/phone/accel\"\n",
    "output_dir = os.path.join(source_dir, \"csv_clean\")\n",
    "\n",
    "os.makedirs(output_dir, exist_ok=True)\n",
    "\n",
    "for filename in os.listdir(source_dir):\n",
    "    if filename.endswith(\".arff\"):\n",
    "        with open(os.path.join(source_dir, filename), \"r\") as infile:\n",
    "            lines = infile.readlines()\n",
    "        \n",
    "        # Find the line where data starts\n",
    "        try:\n",
    "            start_index = lines.index(\"@data\\n\") + 1\n",
    "        except ValueError:\n",
    "            continue  # Skip malformed ARFF\n",
    "\n",
    "        data_lines = lines[start_index:]\n",
    "        output_file = os.path.join(output_dir, filename.replace(\".arff\", \".csv\"))\n",
    "\n",
    "        with open(output_file, \"w\") as outfile:\n",
    "            outfile.writelines(data_lines)\n",
    "\n",
    "print(\"Finished cleaning ARFF files into CSV format.\")\n"
   ]
  },
  {
   "cell_type": "code",
   "execution_count": null,
   "id": "1600f004-e9ae-4918-b478-7e9cd458909a",
   "metadata": {},
   "outputs": [],
   "source": [
    "from pyspark.sql import SparkSession\n",
    "\n",
    "spark = SparkSession.builder.appName(\"WISDM_EDA\").getOrCreate()\n",
    "\n",
    "df = spark.read.csv(\n",
    "    \"file:///home/work/Final_Project/data/wisdm-dataset/arff_files/phone/accel/csv_clean/*.csv\",\n",
    "    header=False, inferSchema=True\n",
    ")\n",
    "\n",
    "# Optionally rename first column as 'activity'\n",
    "df = df.withColumnRenamed(\"_c0\", \"activity\")\n",
    "df.show(5)\n"
   ]
  },
  {
   "cell_type": "code",
   "execution_count": null,
   "id": "967b1fd8-7147-4988-a36f-619114dc2015",
   "metadata": {},
   "outputs": [],
   "source": [
    "# Print inferred schema\n",
    "df.printSchema()\n",
    "\n",
    "# Show first few rows\n",
    "df.show(5, truncate=False)\n"
   ]
  },
  {
   "cell_type": "code",
   "execution_count": null,
   "id": "d3ad1119-912e-4371-91af-540892f81ec1",
   "metadata": {},
   "outputs": [],
   "source": [
    "# Show descriptive stats (mean, stddev, min, max) for all numeric columns\n",
    "df.describe().show()"
   ]
  },
  {
   "cell_type": "code",
   "execution_count": null,
   "id": "0bfdefc0-ebe3-485a-ac0e-08a1de158740",
   "metadata": {},
   "outputs": [],
   "source": [
    "from pyspark.sql.functions import col\n",
    "\n",
    "# Count frequency of each activity code (e.g., A, B, C...)\n",
    "activity_counts = df.groupBy(\"activity\").count().orderBy(\"count\", ascending=False)\n",
    "activity_counts.show()\n"
   ]
  },
  {
   "cell_type": "code",
   "execution_count": null,
   "id": "336ed971-4049-4f11-9fa2-1a97d4b812ec",
   "metadata": {},
   "outputs": [],
   "source": [
    "import matplotlib.pyplot as plt\n",
    "\n",
    "# Convert to Pandas for plotting (only safe for small datasets)\n",
    "activity_pd = activity_counts.toPandas()\n",
    "\n",
    "# Plot bar chart\n",
    "activity_pd.plot(kind=\"bar\", x=\"activity\", y=\"count\", legend=False)\n",
    "plt.title(\"Activity Code Distribution\")\n",
    "plt.xlabel(\"Activity Code\")\n",
    "plt.ylabel(\"Count\")\n",
    "plt.xticks(rotation=0)\n",
    "plt.tight_layout()\n",
    "plt.show()\n"
   ]
  },
  {
   "cell_type": "code",
   "execution_count": null,
   "id": "6825f398-2a51-44c1-9887-05cba9274216",
   "metadata": {},
   "outputs": [],
   "source": [
    "import matplotlib.pyplot as plt\n",
    "import numpy as np\n",
    "\n",
    "# Select numeric columns\n",
    "numeric_cols = [f\"_c{i}\" for i in range(1, 93)]\n",
    "numeric_df = df.select([col(c).cast(\"double\") for c in numeric_cols])\n",
    "\n",
    "# Sample and convert to Pandas\n",
    "numeric_sample = numeric_df.sample(False, 0.05).toPandas()\n",
    "\n",
    "# Compute correlation matrix\n",
    "corr_matrix = numeric_sample.corr()\n",
    "\n",
    "# Plot heatmap\n",
    "plt.figure(figsize=(12, 10))\n",
    "plt.imshow(corr_matrix, interpolation='nearest', cmap='coolwarm', vmin=-1, vmax=1)\n",
    "plt.colorbar(label='Correlation')\n",
    "\n",
    "# Label axes\n",
    "tick_marks = np.arange(len(corr_matrix.columns))\n",
    "plt.xticks(tick_marks, corr_matrix.columns, rotation=90, fontsize=6)\n",
    "plt.yticks(tick_marks, corr_matrix.columns, fontsize=6)\n",
    "\n",
    "plt.title(\"Features Correlation Heatmap\")\n",
    "plt.tight_layout()\n",
    "plt.show()\n"
   ]
  },
  {
   "cell_type": "code",
   "execution_count": null,
   "id": "ffebb54f-a232-41d4-8a2d-3ae252594ccc",
   "metadata": {},
   "outputs": [],
   "source": []
  }
 ],
 "metadata": {
  "kernelspec": {
   "display_name": "Python 3 (ipykernel)",
   "language": "python",
   "name": "python3"
  },
  "language_info": {
   "codemirror_mode": {
    "name": "ipython",
    "version": 3
   },
   "file_extension": ".py",
   "mimetype": "text/x-python",
   "name": "python",
   "nbconvert_exporter": "python",
   "pygments_lexer": "ipython3",
   "version": "3.11.0rc1"
  }
 },
 "nbformat": 4,
 "nbformat_minor": 5
}
